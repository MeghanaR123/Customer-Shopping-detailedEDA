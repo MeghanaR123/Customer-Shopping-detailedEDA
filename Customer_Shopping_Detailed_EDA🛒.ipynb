{
  "metadata": {
    "kernelspec": {
      "language": "python",
      "display_name": "Python 3",
      "name": "python3"
    },
    "language_info": {
      "name": "python",
      "version": "3.10.14",
      "mimetype": "text/x-python",
      "codemirror_mode": {
        "name": "ipython",
        "version": 3
      },
      "pygments_lexer": "ipython3",
      "nbconvert_exporter": "python",
      "file_extension": ".py"
    },
    "kaggle": {
      "accelerator": "none",
      "dataSources": [
        {
          "sourceId": 9992547,
          "sourceType": "datasetVersion",
          "datasetId": 6149964
        }
      ],
      "dockerImageVersionId": 30786,
      "isInternetEnabled": false,
      "language": "python",
      "sourceType": "notebook",
      "isGpuEnabled": false
    },
    "colab": {
      "provenance": [],
      "include_colab_link": true
    }
  },
  "nbformat_minor": 0,
  "nbformat": 4,
  "cells": [
    {
      "cell_type": "markdown",
      "metadata": {
        "id": "view-in-github",
        "colab_type": "text"
      },
      "source": [
        "<a href=\"https://colab.research.google.com/github/MeghanaR123/Customer-Shopping-detailedEDA/blob/main/Customer_Shopping_Detailed_EDA%F0%9F%9B%92.ipynb\" target=\"_parent\"><img src=\"https://colab.research.google.com/assets/colab-badge.svg\" alt=\"Open In Colab\"/></a>"
      ]
    },
    {
      "source": [
        "\n",
        "\n"
      ],
      "metadata": {
        "id": "dxLs1Q2dMFQx"
      },
      "cell_type": "code",
      "outputs": [],
      "execution_count": null
    },
    {
      "cell_type": "markdown",
      "source": [
        "# Importing Libraries"
      ],
      "metadata": {
        "id": "KsMTHrlnMFQ3"
      }
    },
    {
      "cell_type": "code",
      "source": [
        "import numpy as np\n",
        "import pandas as pd\n",
        "import matplotlib.pyplot as plt\n",
        "import seaborn as sns\n",
        "import warnings\n",
        "warnings.filterwarnings('ignore')"
      ],
      "metadata": {
        "trusted": true,
        "execution": {
          "iopub.status.busy": "2024-12-02T06:57:27.529931Z",
          "iopub.execute_input": "2024-12-02T06:57:27.530335Z",
          "iopub.status.idle": "2024-12-02T06:57:31.243091Z",
          "shell.execute_reply.started": "2024-12-02T06:57:27.530298Z",
          "shell.execute_reply": "2024-12-02T06:57:31.241046Z"
        },
        "id": "TYahYjA-MFQ3"
      },
      "outputs": [],
      "execution_count": null
    },
    {
      "cell_type": "markdown",
      "source": [
        "# Loading Data"
      ],
      "metadata": {
        "id": "mV_BYK9_MFQ4"
      }
    },
    {
      "cell_type": "code",
      "source": [
        "df=pd.read_csv('/kaggle/input/customer-shopping-latest-trends-dataset/shopping_trends.csv')"
      ],
      "metadata": {
        "trusted": true,
        "execution": {
          "iopub.status.busy": "2024-12-02T06:57:31.246293Z",
          "iopub.execute_input": "2024-12-02T06:57:31.24714Z",
          "iopub.status.idle": "2024-12-02T06:57:31.309005Z",
          "shell.execute_reply.started": "2024-12-02T06:57:31.247082Z",
          "shell.execute_reply": "2024-12-02T06:57:31.307502Z"
        },
        "id": "FRfwVfB4MFQ4"
      },
      "outputs": [],
      "execution_count": null
    },
    {
      "cell_type": "markdown",
      "source": [
        "# Exploring Dataset"
      ],
      "metadata": {
        "id": "bApcFui6MFQ4"
      }
    },
    {
      "cell_type": "code",
      "source": [
        "df.head(10)"
      ],
      "metadata": {
        "trusted": true,
        "execution": {
          "iopub.status.busy": "2024-12-02T06:57:31.31044Z",
          "iopub.execute_input": "2024-12-02T06:57:31.310956Z",
          "iopub.status.idle": "2024-12-02T06:57:31.349686Z",
          "shell.execute_reply.started": "2024-12-02T06:57:31.310904Z",
          "shell.execute_reply": "2024-12-02T06:57:31.347438Z"
        },
        "id": "0EqOsvv-MFQ4"
      },
      "outputs": [],
      "execution_count": null
    },
    {
      "cell_type": "code",
      "source": [
        "df.info()"
      ],
      "metadata": {
        "trusted": true,
        "execution": {
          "iopub.status.busy": "2024-12-02T06:57:31.352768Z",
          "iopub.execute_input": "2024-12-02T06:57:31.35327Z",
          "iopub.status.idle": "2024-12-02T06:57:31.395903Z",
          "shell.execute_reply.started": "2024-12-02T06:57:31.353219Z",
          "shell.execute_reply": "2024-12-02T06:57:31.394106Z"
        },
        "id": "HqLaxDijMFQ5"
      },
      "outputs": [],
      "execution_count": null
    },
    {
      "cell_type": "code",
      "source": [
        "df.describe().T"
      ],
      "metadata": {
        "trusted": true,
        "execution": {
          "iopub.status.busy": "2024-12-02T06:57:31.397769Z",
          "iopub.execute_input": "2024-12-02T06:57:31.398282Z",
          "iopub.status.idle": "2024-12-02T06:57:31.443374Z",
          "shell.execute_reply.started": "2024-12-02T06:57:31.398243Z",
          "shell.execute_reply": "2024-12-02T06:57:31.441996Z"
        },
        "id": "aGSF_N-jMFQ5"
      },
      "outputs": [],
      "execution_count": null
    },
    {
      "cell_type": "code",
      "source": [
        "cat_cols=df.select_dtypes(include='object').columns\n",
        "num_cols=df.select_dtypes(exclude='object').columns"
      ],
      "metadata": {
        "trusted": true,
        "execution": {
          "iopub.status.busy": "2024-12-02T06:57:31.444842Z",
          "iopub.execute_input": "2024-12-02T06:57:31.445314Z",
          "iopub.status.idle": "2024-12-02T06:57:31.453546Z",
          "shell.execute_reply.started": "2024-12-02T06:57:31.445266Z",
          "shell.execute_reply": "2024-12-02T06:57:31.452404Z"
        },
        "id": "1MStezSnMFQ5"
      },
      "outputs": [],
      "execution_count": null
    },
    {
      "cell_type": "code",
      "source": [
        "df[cat_cols].nunique()"
      ],
      "metadata": {
        "trusted": true,
        "execution": {
          "iopub.status.busy": "2024-12-02T06:57:31.455093Z",
          "iopub.execute_input": "2024-12-02T06:57:31.455566Z",
          "iopub.status.idle": "2024-12-02T06:57:31.482131Z",
          "shell.execute_reply.started": "2024-12-02T06:57:31.455518Z",
          "shell.execute_reply": "2024-12-02T06:57:31.481031Z"
        },
        "id": "Z__x9hwyMFQ6"
      },
      "outputs": [],
      "execution_count": null
    },
    {
      "cell_type": "markdown",
      "source": [
        "# Categorical Attributes\n",
        "_Plotting the basic distributions for every categorical attributes_"
      ],
      "metadata": {
        "id": "cJd9c8e2MFQ6"
      }
    },
    {
      "cell_type": "code",
      "source": [
        " for i in cat_cols.drop(['Item Purchased', 'Location', 'Color']):\n",
        "    f, ax=plt.subplots(1, 2, figsize=(15, 6))\n",
        "    df[i].value_counts().plot.pie(autopct='%1.1f%%', ax=ax[0])\n",
        "    sns.countplot(data=df, x=i, ax=ax[1])\n",
        "    plt.show()"
      ],
      "metadata": {
        "trusted": true,
        "execution": {
          "iopub.status.busy": "2024-12-02T08:24:25.128919Z",
          "iopub.execute_input": "2024-12-02T08:24:25.1293Z",
          "iopub.status.idle": "2024-12-02T08:24:28.499987Z",
          "shell.execute_reply.started": "2024-12-02T08:24:25.12927Z",
          "shell.execute_reply": "2024-12-02T08:24:28.49856Z"
        },
        "jupyter": {
          "source_hidden": true
        },
        "id": "n-zPd-CbMFQ6"
      },
      "outputs": [],
      "execution_count": null
    },
    {
      "cell_type": "markdown",
      "source": [
        "## Basic Analysis\n",
        "**Gender:** _We can see from the above distribution that_ `Male` _demographic seems to be the majority with a 68% of the total customers, while_ `Female` _represent the remaining 32%_\n",
        "\n",
        "**Category:** _From the above distributions we can clearly see that_ `Clothing` _itmes are the most purchased ones by a big margin, followed by_ `Accessories, Footwear, and Outerwear`\n",
        "\n",
        "**Size:** _A large portion of the customers order_ `Medium` _sized products, suggesting people just choose the middle ground as not to accidently purchaseing too big or small items_\n",
        "\n",
        "**Season:** _There seem to be a small change in the overall seasonal impact on the number of customers._\n",
        "\n",
        "**Subscription Status:** _Majority of the customers do not have the related Subscription Service, about 73%._\n",
        "\n",
        "**Payment Method:** _Majority of the customers use_ `Credit Card` _for payment,_ `17.8%` _while the distribution for the rest are around_ `16%`\n",
        "\n",
        "**Shipping Type:** _The different distributions for shipping types are almost same._\n",
        "\n",
        "**Discount Applied:** _Looking at the distribution most people purchase the products with no discount._\n",
        "\n",
        "**Promo Code:** _Just like discount, most people don't use promo codes or they don't have them._\n",
        "\n",
        "**Frequency of Purchases:** _Every unique instance of purchasing time period has same distribution, with_ `Every 3 Months` _instance havig highest distribution by a very small margin of_ `15%` _while the rest being at around_ `14%`"
      ],
      "metadata": {
        "id": "1zANJSAMMFQ6"
      }
    },
    {
      "cell_type": "markdown",
      "source": [
        "# --------------------------------------------------------------------------"
      ],
      "metadata": {
        "id": "H5QK24dgMFQ6"
      }
    },
    {
      "cell_type": "markdown",
      "source": [
        "# Detailed Analysis"
      ],
      "metadata": {
        "id": "BZSSy7PvMFQ6"
      }
    },
    {
      "cell_type": "code",
      "source": [
        "def viz1():\n",
        "    bins =[10, 20, 30, 40, 50, 60, 70]\n",
        "    labels =['10-20', '21-30', '31-40', '41-50', '51-60', '61-70']\n",
        "    df['Age Range'] = pd.cut(df['Age'], bins=bins, labels=labels)\n",
        "\n",
        "    freq_map = {\n",
        "    'Weekly': 'Regular Purchases',\n",
        "    'Bi-Weekly': 'Regular Purchases',\n",
        "    'Fortnightly': 'Regular Purchases',\n",
        "    'Monthly': 'Occasional Purchases',\n",
        "    'Quarterly': 'Occasional Purchases',\n",
        "    'Every 3 Months': 'Occasional Purchases',\n",
        "    'Annually': 'Rare Purchases',\n",
        "    }\n",
        "\n",
        "    df['Frequency Category'] = df['Frequency of Purchases'].map(freq_map)\n",
        "    g_data=df.groupby(['Age Range', 'Gender', 'Frequency Category']).size().reset_index(name='Count')\n",
        "\n",
        "    pivot_table=g_data.pivot_table(index='Age Range',\n",
        "                       columns=['Gender', 'Frequency Category'],\n",
        "                       values='Count',\n",
        "                       fill_value=0)\n",
        "\n",
        "    pivot_table.plot(kind='bar', stacked=True, figsize=(12,6), colormap='Spectral')\n",
        "    plt.title('Purchase Frequency by Age and Gender')\n",
        "    plt.xlabel('Age Range')\n",
        "    plt.ylabel('Count of Purchases')\n",
        "    plt.tight_layout()\n",
        "    plt.show()"
      ],
      "metadata": {
        "trusted": true,
        "execution": {
          "iopub.status.busy": "2024-12-02T06:57:35.686422Z",
          "iopub.execute_input": "2024-12-02T06:57:35.686774Z",
          "iopub.status.idle": "2024-12-02T06:57:35.696443Z",
          "shell.execute_reply.started": "2024-12-02T06:57:35.686741Z",
          "shell.execute_reply": "2024-12-02T06:57:35.695001Z"
        },
        "jupyter": {
          "source_hidden": true
        },
        "id": "j6EWsuR1MFQ7"
      },
      "outputs": [],
      "execution_count": null
    },
    {
      "cell_type": "code",
      "source": [
        "viz1()"
      ],
      "metadata": {
        "trusted": true,
        "execution": {
          "iopub.status.busy": "2024-12-02T06:57:35.699816Z",
          "iopub.execute_input": "2024-12-02T06:57:35.700328Z",
          "iopub.status.idle": "2024-12-02T06:57:36.203507Z",
          "shell.execute_reply.started": "2024-12-02T06:57:35.700208Z",
          "shell.execute_reply": "2024-12-02T06:57:36.202235Z"
        },
        "id": "NG4qswnlMFQ7"
      },
      "outputs": [],
      "execution_count": null
    },
    {
      "cell_type": "markdown",
      "source": [
        "## Purchase Frequency by Age and Gneder\n",
        "**Overall:** _Purchase frequency increases with age, with males generally making more purchases than females._\n",
        "\n",
        "**10-20:** _Low purchase frequency for both genders._\n",
        "\n",
        "**21-30:** _Purchase frequency increases for both genders, with males leading._\n",
        "\n",
        "**31-40:** _Continued increase in purchase frequency, with males still ahead._\n",
        "\n",
        "**41-50:** _Substantial increase for both genders, but males remain dominant._\n",
        "\n",
        "**51-60:** _High purchase frequency for both genders, with males still leading._\n",
        "\n",
        "**61-70:** _Slight decline for both genders, but males still have higher activity._"
      ],
      "metadata": {
        "id": "9fc2nMQVMFQ7"
      }
    },
    {
      "cell_type": "code",
      "source": [
        "def viz2():\n",
        "    s=df.groupby('Season').size()\n",
        "    s=s.sort_index()\n",
        "\n",
        "    plt.figure(figsize=(10,6))\n",
        "    plt.plot(s.index, s.values,\n",
        "             marker='o',\n",
        "             linestyle='-',\n",
        "             color='teal',\n",
        "             linewidth=2)\n",
        "    plt.title('Total Purchases per season')\n",
        "    plt.xlabel('Season')\n",
        "    plt.ylabel('Purchases')\n",
        "    plt.ylim(900, 1060)\n",
        "    plt.grid(axis='y', linestyle='--', alpha=0.5)\n",
        "    plt.tight_layout()\n",
        "    plt.show()"
      ],
      "metadata": {
        "trusted": true,
        "execution": {
          "iopub.status.busy": "2024-12-02T06:57:36.205149Z",
          "iopub.execute_input": "2024-12-02T06:57:36.205529Z",
          "iopub.status.idle": "2024-12-02T06:57:36.213435Z",
          "shell.execute_reply.started": "2024-12-02T06:57:36.205494Z",
          "shell.execute_reply": "2024-12-02T06:57:36.212068Z"
        },
        "jupyter": {
          "source_hidden": true
        },
        "id": "9n6CldYsMFQ7"
      },
      "outputs": [],
      "execution_count": null
    },
    {
      "cell_type": "code",
      "source": [
        "viz2()"
      ],
      "metadata": {
        "trusted": true,
        "execution": {
          "iopub.status.busy": "2024-12-02T06:57:36.214963Z",
          "iopub.execute_input": "2024-12-02T06:57:36.215332Z",
          "iopub.status.idle": "2024-12-02T06:57:36.48133Z",
          "shell.execute_reply.started": "2024-12-02T06:57:36.215297Z",
          "shell.execute_reply": "2024-12-02T06:57:36.479916Z"
        },
        "id": "7nUmCnhdMFQ8"
      },
      "outputs": [],
      "execution_count": null
    },
    {
      "cell_type": "markdown",
      "source": [
        "## Total Purchases per Season\n",
        "\n",
        "**Fall**: *Moderate purchase activity.*\n",
        "\n",
        "**Spring**: *Highest purchase frequency.*\n",
        "\n",
        "**Summer**: *Lowest purchase activity.*\n",
        "\n",
        "**Winter**: *Moderate to high purchase frequency, recovering from the summer dip*."
      ],
      "metadata": {
        "id": "UnuieCACMFQ8"
      }
    },
    {
      "cell_type": "code",
      "source": [
        "def viz3():\n",
        "    rev_s=df.groupby('Season')['Purchase Amount (USD)'].sum()\n",
        "    rev_s=rev_s.sort_values(ascending=False)\n",
        "\n",
        "    plt.figure(figsize=(10,6))\n",
        "    rev_s.plot(kind='bar', color='lightyellow', edgecolor='black')\n",
        "\n",
        "    plt.title('Total Revenue per Season')\n",
        "    plt.xlabel('Season')\n",
        "    plt.ylabel('Revenue')\n",
        "    plt.grid(axis='y', linestyle='--', alpha=.5)\n",
        "    plt.tight_layout()\n",
        "    plt.show()"
      ],
      "metadata": {
        "trusted": true,
        "execution": {
          "iopub.status.busy": "2024-12-02T06:57:36.483901Z",
          "iopub.execute_input": "2024-12-02T06:57:36.484264Z",
          "iopub.status.idle": "2024-12-02T06:57:36.491827Z",
          "shell.execute_reply.started": "2024-12-02T06:57:36.484229Z",
          "shell.execute_reply": "2024-12-02T06:57:36.489886Z"
        },
        "jupyter": {
          "source_hidden": true
        },
        "id": "5nWzdzwzMFQ8"
      },
      "outputs": [],
      "execution_count": null
    },
    {
      "cell_type": "code",
      "source": [
        "viz3()"
      ],
      "metadata": {
        "trusted": true,
        "execution": {
          "iopub.status.busy": "2024-12-02T06:57:36.493626Z",
          "iopub.execute_input": "2024-12-02T06:57:36.494152Z",
          "iopub.status.idle": "2024-12-02T06:57:36.781315Z",
          "shell.execute_reply.started": "2024-12-02T06:57:36.494099Z",
          "shell.execute_reply": "2024-12-02T06:57:36.779576Z"
        },
        "id": "JnAPUOcKMFQ8"
      },
      "outputs": [],
      "execution_count": null
    },
    {
      "cell_type": "markdown",
      "source": [
        "## Total Revenue per Season\n",
        "\n",
        "**Overall:** _Revenue remains relatively consistent across all seasons._\n",
        "\n",
        "**Fall:** _Highest revenue._\n",
        "\n",
        "**Spring:** _Second highest revenue._\n",
        "\n",
        "**Winter:** _Third highest revenue._\n",
        "\n",
        "**Summer:** _Lowest revenue._"
      ],
      "metadata": {
        "id": "N16BiVrTMFQ8"
      }
    },
    {
      "cell_type": "code",
      "source": [
        "def viz4():\n",
        "    items=df['Item Purchased'].value_counts()\n",
        "    percentage=items.cumsum()/items.sum()*100\n",
        "\n",
        "    plt.figure(figsize=(10,6))\n",
        "    sns.barplot(x=items.index, y=items.values, palette='Spectral')\n",
        "    plt.plot(percentage, color='red', marker='o', label='Cummulative Percentage')\n",
        "    plt.title('Parleto Chart for Items Purchased')\n",
        "    plt.xlabel('Item Purchased')\n",
        "    plt.ylabel('Count')\n",
        "    plt.xticks(rotation=90)\n",
        "    plt.legend()\n",
        "    plt.show()"
      ],
      "metadata": {
        "trusted": true,
        "execution": {
          "iopub.status.busy": "2024-12-02T06:57:36.783296Z",
          "iopub.execute_input": "2024-12-02T06:57:36.783712Z",
          "iopub.status.idle": "2024-12-02T06:57:36.791279Z",
          "shell.execute_reply.started": "2024-12-02T06:57:36.783675Z",
          "shell.execute_reply": "2024-12-02T06:57:36.789965Z"
        },
        "jupyter": {
          "source_hidden": true
        },
        "id": "tLKCVLMfMFQ8"
      },
      "outputs": [],
      "execution_count": null
    },
    {
      "cell_type": "code",
      "source": [
        "viz4()"
      ],
      "metadata": {
        "trusted": true,
        "execution": {
          "iopub.status.busy": "2024-12-02T06:57:36.793002Z",
          "iopub.execute_input": "2024-12-02T06:57:36.793517Z",
          "iopub.status.idle": "2024-12-02T06:57:37.311708Z",
          "shell.execute_reply.started": "2024-12-02T06:57:36.793436Z",
          "shell.execute_reply": "2024-12-02T06:57:37.310385Z"
        },
        "id": "5Z-GyELBMFQ9"
      },
      "outputs": [],
      "execution_count": null
    },
    {
      "cell_type": "markdown",
      "source": [
        "## Parleto Chart for Items Purchased\n",
        "\n",
        "**Overall**: _A small number of items drive a significant portion of total purchases._\n",
        "\n",
        "**Top-performing Items:**\n",
        "_\"Blouse,\" \"Pants,\" and \"Jewelry\" are the top-selling items, contributing to a large portion of the total purchases._\n",
        "\n",
        "**Long Tail of Items:**\n",
        "_Many items have relatively low purchase counts, forming the \"long tail\" of the distribution._\n",
        "\n",
        "**Cumulative Percentage:**\n",
        "_The cumulative percentage line shows how the top-selling items contribute to the overall total. It highlights the diminishing returns as you move down the list._"
      ],
      "metadata": {
        "id": "pK_Xr0kkMFQ9"
      }
    },
    {
      "cell_type": "code",
      "source": [
        "def viz5():\n",
        "    category=df.groupby('Category')['Purchase Amount (USD)'].sum()\n",
        "    category=category.sort_values(ascending=False)\n",
        "\n",
        "    plt.figure(figsize=(10,6))\n",
        "    category.plot(kind='bar', color='lightblue', edgecolor='black')\n",
        "    plt.title('Revenue per Category')\n",
        "    plt.xlabel('Category')\n",
        "    plt.ylabel('Total Revenue')\n",
        "    plt.tight_layout()\n",
        "    plt.show()"
      ],
      "metadata": {
        "trusted": true,
        "jupyter": {
          "source_hidden": true
        },
        "execution": {
          "iopub.status.busy": "2024-12-02T07:07:42.320894Z",
          "iopub.execute_input": "2024-12-02T07:07:42.321345Z",
          "iopub.status.idle": "2024-12-02T07:07:42.330429Z",
          "shell.execute_reply.started": "2024-12-02T07:07:42.321312Z",
          "shell.execute_reply": "2024-12-02T07:07:42.328261Z"
        },
        "id": "i8ngbUH9MFQ9"
      },
      "outputs": [],
      "execution_count": null
    },
    {
      "cell_type": "code",
      "source": [
        "viz5()"
      ],
      "metadata": {
        "trusted": true,
        "execution": {
          "iopub.status.busy": "2024-12-02T07:07:48.510136Z",
          "iopub.execute_input": "2024-12-02T07:07:48.510558Z",
          "iopub.status.idle": "2024-12-02T07:07:48.761342Z",
          "shell.execute_reply.started": "2024-12-02T07:07:48.510519Z",
          "shell.execute_reply": "2024-12-02T07:07:48.759884Z"
        },
        "id": "rfqLW698MFQ9"
      },
      "outputs": [],
      "execution_count": null
    },
    {
      "cell_type": "markdown",
      "source": [
        "## Revenue per Category\n",
        "\n",
        "`Clothing` _generates the highest revenue, followed by_ `Accessories` _and_ `Footwear`. `Outerwear` _has the lowest revenue._"
      ],
      "metadata": {
        "id": "NTB_BaPtMFQ9"
      }
    },
    {
      "cell_type": "code",
      "source": [
        "def viz6():\n",
        "    g_data=df.groupby(['Gender', 'Category']).size().reset_index(name='Count')\n",
        "    pivot=g_data.pivot(index='Category', columns='Gender', values='Count').fillna(0)\n",
        "\n",
        "    pivot.plot(kind='bar', color=['salmon', 'skyblue'], figsize=(10,6), edgecolor='black')\n",
        "    plt.title('Grouped Bar Chart: Gender vs Product Categories')\n",
        "    plt.xlabel('Product Category')\n",
        "    plt.ylabel('Count of Purchases')\n",
        "    plt.legend()\n",
        "    plt.tight_layout()\n",
        "    plt.show()\n"
      ],
      "metadata": {
        "trusted": true,
        "execution": {
          "iopub.status.busy": "2024-12-02T07:20:27.614003Z",
          "iopub.execute_input": "2024-12-02T07:20:27.614508Z",
          "iopub.status.idle": "2024-12-02T07:20:27.622006Z",
          "shell.execute_reply.started": "2024-12-02T07:20:27.614435Z",
          "shell.execute_reply": "2024-12-02T07:20:27.620656Z"
        },
        "jupyter": {
          "source_hidden": true
        },
        "id": "GZ7VUYvkMFQ9"
      },
      "outputs": [],
      "execution_count": null
    },
    {
      "cell_type": "code",
      "source": [
        "viz6()"
      ],
      "metadata": {
        "trusted": true,
        "execution": {
          "iopub.status.busy": "2024-12-02T07:20:29.202735Z",
          "iopub.execute_input": "2024-12-02T07:20:29.203146Z",
          "iopub.status.idle": "2024-12-02T07:20:29.630667Z",
          "shell.execute_reply.started": "2024-12-02T07:20:29.203113Z",
          "shell.execute_reply": "2024-12-02T07:20:29.629255Z"
        },
        "id": "UWri0QrvMFQ-"
      },
      "outputs": [],
      "execution_count": null
    },
    {
      "cell_type": "code",
      "source": [
        "def viz7():\n",
        "    color_pop=df.groupby(['Item Purchased', 'Color']).size().reset_index(name='Count')\n",
        "    top_colors=color_pop.groupby('Color')['Count'].sum().sort_values(ascending=False).head(10)\n",
        "\n",
        "    top_colors.plot(kind='bar', figsize=(10,6), color='lightblue')\n",
        "    plt.title('Top 10 most Popular Colors')\n",
        "    plt.xlabel('Color')\n",
        "    plt.ylabel('Total Purchases')\n",
        "    plt.xticks(rotation=90)\n",
        "    plt.tight_layout()\n",
        "    plt.show()"
      ],
      "metadata": {
        "trusted": true,
        "execution": {
          "iopub.status.busy": "2024-12-02T07:36:28.056771Z",
          "iopub.execute_input": "2024-12-02T07:36:28.057195Z",
          "iopub.status.idle": "2024-12-02T07:36:28.064278Z",
          "shell.execute_reply.started": "2024-12-02T07:36:28.05716Z",
          "shell.execute_reply": "2024-12-02T07:36:28.063049Z"
        },
        "jupyter": {
          "source_hidden": true
        },
        "id": "zcUSY-8sMFQ-"
      },
      "outputs": [],
      "execution_count": null
    },
    {
      "cell_type": "code",
      "source": [
        "viz7()"
      ],
      "metadata": {
        "trusted": true,
        "execution": {
          "iopub.status.busy": "2024-12-02T07:36:28.475637Z",
          "iopub.execute_input": "2024-12-02T07:36:28.476002Z",
          "iopub.status.idle": "2024-12-02T07:36:28.77173Z",
          "shell.execute_reply.started": "2024-12-02T07:36:28.475972Z",
          "shell.execute_reply": "2024-12-02T07:36:28.770186Z"
        },
        "id": "ldvmTbDCMFQ-"
      },
      "outputs": [],
      "execution_count": null
    },
    {
      "cell_type": "markdown",
      "source": [
        "## Top 10 Most Popular Colors\n",
        "\n",
        "* `Olive, Yellow, Silver, Teal, and Green` _are the top five most popular colors, with_ `Olive` _being the most popular._\n",
        "\n",
        "* _The remaining colors_ `(Black, Violet, Cyan, Gray, and Maroon)` _are less popular compared to the top five._"
      ],
      "metadata": {
        "id": "V6SZBvyaMFQ-"
      }
    },
    {
      "cell_type": "code",
      "source": [
        "def viz8():\n",
        "    bins=[10,20,30,40,50,60,70]\n",
        "    labels=['10-20', '21-30', '31-40', '41-50', '51-60', '61-70']\n",
        "    df['Age Range']=pd.cut(df['Age'], bins=bins, labels=labels)\n",
        "\n",
        "    age_data=df.groupby(['Age Range', 'Frequency of Purchases']).size().reset_index(name='Count')\n",
        "    pivot=age_data.pivot(index='Age Range', columns='Frequency of Purchases', values='Count').fillna(0)\n",
        "\n",
        "    plt.figure(figsize=(10, 6))\n",
        "    sns.heatmap(pivot, annot=True, fmt='g', cmap='Spectral_r', cbar_kws={'label': 'Number of Purchases'})\n",
        "    plt.title('Heatmap of Frequency of Purchases by Age Range', fontsize=14)\n",
        "    plt.xlabel('Frequency of Purchases', fontsize=12)\n",
        "    plt.ylabel('Age Range', fontsize=12)\n",
        "    plt.xticks(rotation=45)\n",
        "    plt.tight_layout()\n",
        "    plt.show()"
      ],
      "metadata": {
        "trusted": true,
        "execution": {
          "iopub.status.busy": "2024-12-02T07:48:56.206235Z",
          "iopub.execute_input": "2024-12-02T07:48:56.206656Z",
          "iopub.status.idle": "2024-12-02T07:48:56.215219Z",
          "shell.execute_reply.started": "2024-12-02T07:48:56.20662Z",
          "shell.execute_reply": "2024-12-02T07:48:56.213975Z"
        },
        "jupyter": {
          "source_hidden": true
        },
        "id": "mgC5neZ_MFQ-"
      },
      "outputs": [],
      "execution_count": null
    },
    {
      "cell_type": "code",
      "source": [
        "viz8()"
      ],
      "metadata": {
        "trusted": true,
        "execution": {
          "iopub.status.busy": "2024-12-02T07:48:56.668239Z",
          "iopub.execute_input": "2024-12-02T07:48:56.668693Z",
          "iopub.status.idle": "2024-12-02T07:48:57.266443Z",
          "shell.execute_reply.started": "2024-12-02T07:48:56.668656Z",
          "shell.execute_reply": "2024-12-02T07:48:57.264411Z"
        },
        "id": "TNbbUmiqMFQ-"
      },
      "outputs": [],
      "execution_count": null
    },
    {
      "cell_type": "markdown",
      "source": [
        "## Heatmap of Frequency of Purchases by Age Range\n",
        "\n",
        "**10-20 Age Group:** _This group exhibits relatively low purchase frequency across all intervals, indicating lower purchasing power or different spending habits._\n",
        "\n",
        "**21-30 Age Group:** _This group shows a significant increase in purchase frequency compared to the younger age group, particularly for_ `monthly` _and_ `weekly` _intervals. This suggests a growing consumer base with increasing purchasing power._\n",
        "\n",
        "**31-40 Age Group:** _This group maintains a high level of purchase frequency, especially for_ `monthly, Every 3 Months, and Annually intervals.` _This indicates a stable consumer base with consistent spending habits._\n",
        "\n",
        "**41-50 Age Group:** _This group shows high purchase frequency across various intervals, suggesting continued spending power and active consumer behavior._\n",
        "\n",
        "**51-60 Age Group:** _This group shows a slight decrease in purchase frequency compared to the previous age group, especially for_ `weekly and fortnightly` _intervals. However, they still maintain a high level of `monthly and quarterly` purchases._\n",
        "\n",
        "**61-70 Age Group:** _This group exhibits a similar pattern to the 51-60 age group, with a slight decrease in frequency, particularly for_ `weekly and fortnightly` _intervals._ `Monthly and quarterly` _purchases remain relatively high._"
      ],
      "metadata": {
        "id": "L2Ufx96MMFRD"
      }
    },
    {
      "cell_type": "code",
      "source": [
        "from wordcloud import WordCloud\n",
        "\n",
        "def viz9():\n",
        "    text = \" \".join(df['Location'].astype(str))  # Combine all values into one string\n",
        "    wordcloud = WordCloud(width=800, height=400, background_color='white', colormap='Spectral').generate(text)\n",
        "\n",
        "    plt.figure(figsize=(10, 6))\n",
        "    plt.imshow(wordcloud, interpolation='bilinear')\n",
        "    plt.axis('off')\n",
        "    plt.title('Word Cloud for Location', fontsize=16)\n",
        "    plt.show()\n"
      ],
      "metadata": {
        "trusted": true,
        "execution": {
          "iopub.status.busy": "2024-12-02T08:12:02.092635Z",
          "iopub.execute_input": "2024-12-02T08:12:02.093037Z",
          "iopub.status.idle": "2024-12-02T08:12:02.102003Z",
          "shell.execute_reply.started": "2024-12-02T08:12:02.093006Z",
          "shell.execute_reply": "2024-12-02T08:12:02.100681Z"
        },
        "jupyter": {
          "source_hidden": true
        },
        "id": "wkK6MOOKMFRD"
      },
      "outputs": [],
      "execution_count": null
    },
    {
      "cell_type": "code",
      "source": [
        "viz9()"
      ],
      "metadata": {
        "trusted": true,
        "execution": {
          "iopub.status.busy": "2024-12-02T08:12:02.331298Z",
          "iopub.execute_input": "2024-12-02T08:12:02.331716Z",
          "iopub.status.idle": "2024-12-02T08:12:03.041548Z",
          "shell.execute_reply.started": "2024-12-02T08:12:02.331671Z",
          "shell.execute_reply": "2024-12-02T08:12:03.040111Z"
        },
        "id": "3S5wy9VzMFRD"
      },
      "outputs": [],
      "execution_count": null
    },
    {
      "cell_type": "markdown",
      "source": [
        "## Most Prevalent States\n",
        "\n",
        "* _`California and Illinois` appear to be the most frequently mentioned states, based on their larger size in the word cloud._\n",
        "\n",
        "* _`Montana, Maryland, and Idaho` also stand out with significant size, suggesting they might be more prominent as shopping customers._\n",
        "\n",
        "* _Smaller states like `Delaware, Rhode Island, and Maine` have a smaller presence, indicating they might be less frequently mentioned or have less impact._"
      ],
      "metadata": {
        "id": "4s6yPz4vMFRD"
      }
    },
    {
      "cell_type": "markdown",
      "source": [
        "# --------------------------------------------------------------------------"
      ],
      "metadata": {
        "id": "7O_suLgkMFRD"
      }
    },
    {
      "cell_type": "markdown",
      "source": [
        "<div style=\"background-color: #5642C5; color: white; padding: 20px; border-radius: 10px; font-family: Arial, sans-serif; font-size: 18px; text-align: center;\">\n",
        "    Kindly upvote if you liked my work, also please do comment for suggestions or give constructive criticism to help me grow.\n",
        "</div>\n",
        "</p>\n",
        "</div>"
      ],
      "metadata": {
        "id": "JO1Yb_zGMFRD"
      }
    }
  ]
}